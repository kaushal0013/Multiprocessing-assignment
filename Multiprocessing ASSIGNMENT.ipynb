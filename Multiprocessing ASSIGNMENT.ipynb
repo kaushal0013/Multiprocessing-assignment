{
 "cells": [
  {
   "cell_type": "markdown",
   "id": "6aff6509-9712-459e-9060-140737f0f7bc",
   "metadata": {},
   "source": [
    "Q1. What is multiprocessing in python? Why is it useful?"
   ]
  },
  {
   "cell_type": "raw",
   "id": "386f765d-3523-4105-94d9-b44199749474",
   "metadata": {},
   "source": [
    "Multiprocessing in Python refers to the capability of a program to create and run multiple processes simultaneously. In Python, the multiprocessing module provides a way to create and manage parallel processes. Each process runs independently, with its own memory space, and can execute code concurrently with other processes.\n",
    "\n",
    "The primary advantage of multiprocessing in Python is to improve the performance of certain types of tasks by leveraging multiple CPU cores. This is particularly beneficial for computationally intensive and parallelizable tasks, such as data processing, numerical simulations, and certain types of algorithmic computations. By dividing a task into smaller subtasks and executing them concurrently, multiprocessing can significantly reduce the overall execution time.\n",
    "\n",
    "Key features and benefits of multiprocessing in Python include:\n",
    "\n",
    "Parallel Execution: Multiprocessing allows different parts of a program to run in parallel, taking advantage of multiple processor cores. This can lead to significant speedup for tasks that can be parallelized.\n",
    "\n",
    "Isolation: Each process has its own memory space, which means that variables and data are not shared by default. This helps avoid common issues like race conditions and makes it easier to reason about the behavior of the program.\n",
    "\n",
    "Resource Utilization: Multiprocessing enables better utilization of available system resources, particularly on machines with multiple CPU cores. This can lead to improved overall system performance.\n",
    "\n",
    "Fault Tolerance: Since each process runs independently, if one process encounters an error or crashes, it typically does not affect the others. This can enhance the overall robustness of a system.\n",
    "\n",
    "To implement multiprocessing in Python, you can use the multiprocessing module, which provides tools for creating and managing processes. The module includes features such as the Process class for creating new processes, communication channels between processes (e.g., Queue and Pipe), and mechanisms for synchronization (e.g., locks and semaphores).\n",
    "\n",
    "Here's a simple example using the multiprocessing module:"
   ]
  },
  {
   "cell_type": "code",
   "execution_count": 2,
   "id": "1f3a3b52-1e54-412b-a409-8d61197bbe4b",
   "metadata": {},
   "outputs": [
    {
     "name": "stdout",
     "output_type": "stream",
     "text": [
      "Hello, Kaushal!\n",
      "Hello, Rutu!\n"
     ]
    }
   ],
   "source": [
    "import multiprocessing\n",
    "\n",
    "def worker_function(name):\n",
    "    print(f\"Hello, {name}!\")\n",
    "\n",
    "if __name__ == \"__main__\":\n",
    "    \n",
    "    process1 = multiprocessing.Process(target=worker_function, args=(\"Kaushal\",))\n",
    "    process2 = multiprocessing.Process(target=worker_function, args=(\"Rutu\",))\n",
    "\n",
    "    process1.start()\n",
    "    process2.start()\n",
    "\n",
    "    process1.join()\n",
    "    process2.join()\n"
   ]
  },
  {
   "cell_type": "code",
   "execution_count": null,
   "id": "33ced64e-462c-427d-a9d1-9df8dfc68ace",
   "metadata": {},
   "outputs": [],
   "source": []
  },
  {
   "cell_type": "markdown",
   "id": "a5782629-0f9c-40fb-9109-b9422ab7caf6",
   "metadata": {},
   "source": [
    "Q2. What are the differences between multiprocessing and multithreading?"
   ]
  },
  {
   "cell_type": "raw",
   "id": "1c4f249f-0000-454e-ad71-dab800299d16",
   "metadata": {},
   "source": [
    "Multiprocessing and multithreading are both techniques used to achieve parallelism and concurrency in computer programs, but they differ in how they create and manage concurrent execution.\n",
    "\n",
    "1. Process vs. Thread:\n",
    "\n",
    "Multiprocessing: In multiprocessing, multiple independent processes run concurrently. Each process has its own memory space and runs independently of other processes. Communication between processes is typically achieved using inter-process communication (IPC) mechanisms.\n",
    "Multithreading: Multithreading involves multiple threads of execution within the same process. Threads share the same memory space, so they can directly access and modify the same data. However, this shared memory space can lead to potential synchronization issues.\n",
    "2. Memory Isolation:\n",
    "\n",
    "Multiprocessing: Each process has its own memory space, providing strong isolation. Changes in one process do not affect the memory of other processes.\n",
    "Multithreading: Threads within the same process share the same memory space, which can lead to issues like race conditions and requires explicit synchronization to avoid conflicts.\n",
    "3. Communication and Synchronization:\n",
    "\n",
    "Multiprocessing: Communication between processes is achieved through IPC mechanisms such as pipes, queues, and shared memory. Processes may need to synchronize their execution using locks or other mechanisms.\n",
    "Multithreading: Communication between threads is simpler since they share the same memory space. However, this can lead to race conditions, and explicit synchronization mechanisms like locks, semaphores, and condition variables are often needed.\n",
    "4. Resource Overhead:\n",
    "\n",
    "Multiprocessing: Creating new processes generally has higher resource overhead compared to threads. Each process has its own memory space and system resources.\n",
    "Multithreading: Threads within the same process share resources, resulting in lower overhead compared to processes.\n",
    "5. Scalability:\n",
    "\n",
    "Multiprocessing: Typically, multiprocessing is better suited for tasks that can be parallelized and take advantage of multiple CPU cores. It is more scalable on machines with multiple processors or cores.\n",
    "Multithreading: While multithreading can improve performance for certain tasks, it may not scale as well as multiprocessing on systems with multiple processors due to the Global Interpreter Lock (GIL) in CPython, which allows only one thread to execute Python bytecode at a time.\n",
    "6. GIL (Global Interpreter Lock):\n",
    "\n",
    "Multiprocessing: Each process has its own Python interpreter and is not affected by the GIL. Therefore, multiprocessing can be more suitable for CPU-bound tasks in CPython.\n",
    "Multithreading: In CPython, the GIL limits the execution of multiple threads, making it less effective for CPU-bound tasks. However, for I/O-bound tasks, threads can still provide concurrency benefits.\n",
    "In summary, the choice between multiprocessing and multithreading depends on the nature of the task, the degree of parallelism achievable, and the specific requirements of the application. Multiprocessing is often preferred for CPU-bound tasks, while multithreading can be more suitable for I/O-bound tasks."
   ]
  },
  {
   "cell_type": "code",
   "execution_count": null,
   "id": "086de656-9461-4293-9671-b0ffc8ed1956",
   "metadata": {},
   "outputs": [],
   "source": []
  },
  {
   "cell_type": "markdown",
   "id": "7343fc4f-02fa-4fc0-a8b2-762c18a7f184",
   "metadata": {},
   "source": [
    "Q3. Write a python code to create a process using the multiprocessing module."
   ]
  },
  {
   "cell_type": "code",
   "execution_count": 3,
   "id": "a7694c91-0c82-4550-8976-070b5d3232b7",
   "metadata": {},
   "outputs": [
    {
     "name": "stdout",
     "output_type": "stream",
     "text": [
      "Worker process ID: 526\n",
      "Main process ID: 103\n"
     ]
    }
   ],
   "source": [
    "import multiprocessing\n",
    "import os\n",
    "\n",
    "def worker_function():\n",
    "    \"\"\"Function to be executed by the process.\"\"\"\n",
    "    process_id = os.getpid()\n",
    "    print(f\"Worker process ID: {process_id}\")\n",
    "\n",
    "if __name__ == \"__main__\":\n",
    "    \n",
    "    my_process = multiprocessing.Process(target=worker_function)\n",
    "\n",
    "    my_process.start()\n",
    "\n",
    "    my_process.join()\n",
    "\n",
    "   \n",
    "    print(\"Main process ID:\", os.getpid())\n"
   ]
  },
  {
   "cell_type": "code",
   "execution_count": null,
   "id": "ad5a6555-2ee3-4f4a-87d4-503c07724983",
   "metadata": {},
   "outputs": [],
   "source": []
  },
  {
   "cell_type": "markdown",
   "id": "6d6ece9f-b449-4ed5-862c-907aaac9de80",
   "metadata": {},
   "source": [
    "Q4. What is a multiprocessing pool in python? Why is it used?"
   ]
  },
  {
   "cell_type": "raw",
   "id": "87683f46-0405-4f1f-b79d-915a183ad88b",
   "metadata": {},
   "source": [
    "A multiprocessing pool in Python, specifically in the multiprocessing module, refers to a pool of worker processes that can be used to parallelize the execution of a function across multiple input values. The Pool class in the multiprocessing module provides a convenient way to distribute the workload among a specified number of worker processes.\n",
    "\n",
    "Here's a brief explanation of how a multiprocessing pool works and why it is used:\n",
    "\n",
    "Parallel Execution:\n",
    "\n",
    "A multiprocessing pool allows you to parallelize the execution of a function by distributing the workload among multiple processes.\n",
    "The pool assigns different input values to different processes, and each process executes the function independently.\n",
    "Workload Distribution:\n",
    "\n",
    "If you have a function that can be applied to a large number of input values independently (embarrassingly parallel problem), a pool can efficiently distribute the work across available CPU cores.\n",
    "Improved Performance:\n",
    "\n",
    "By using a pool, you can take advantage of multiple CPU cores, leading to improved performance, especially for CPU-bound tasks.\n",
    "The pool handles the creation and management of processes, making it easier to parallelize tasks without manually managing individual processes.\n",
    "Simplified Code:\n",
    "\n",
    "Using a pool often simplifies the code compared to manually managing processes. You don't need to handle process creation, termination, and communication between processes explicitly.\n",
    "Here's a simple example of using a multiprocessing pool to parallelize the execution of a function:"
   ]
  },
  {
   "cell_type": "code",
   "execution_count": 5,
   "id": "5f0a8ac1-f6db-4e32-907f-bd1c7c07bfb0",
   "metadata": {},
   "outputs": [
    {
     "name": "stdout",
     "output_type": "stream",
     "text": [
      "Original values: [11, 23, 31, 41, 56]\n",
      "Squared values: [121, 529, 961, 1681, 3136]\n"
     ]
    }
   ],
   "source": [
    "import multiprocessing\n",
    "\n",
    "def square_number(x):\n",
    "    return x * x\n",
    "\n",
    "if __name__ == \"__main__\":\n",
    "    \n",
    "    with multiprocessing.Pool(processes=4) as pool:\n",
    "        \n",
    "        input_values = [11, 23, 31, 41, 56]\n",
    "\n",
    "        results = pool.map(square_number, input_values)\n",
    "\n",
    "    print(\"Original values:\", input_values)\n",
    "    print(\"Squared values:\", results)\n"
   ]
  },
  {
   "cell_type": "code",
   "execution_count": null,
   "id": "c2a7c996-5dc9-4439-b8dd-127d4382198f",
   "metadata": {},
   "outputs": [],
   "source": []
  },
  {
   "cell_type": "markdown",
   "id": "89bd7639-72fa-468f-9f6b-fb320860ff4e",
   "metadata": {},
   "source": [
    "Q5. How can we create a pool of worker processes in python using the multiprocessing module?"
   ]
  },
  {
   "cell_type": "code",
   "execution_count": 7,
   "id": "42a14a5f-e7e1-4477-8603-ab603d5085b1",
   "metadata": {},
   "outputs": [
    {
     "name": "stdout",
     "output_type": "stream",
     "text": [
      "Original values: [1, 2, 3, 4, 5]\n",
      "Squared values: [1, 4, 9, 16, 25]\n"
     ]
    }
   ],
   "source": [
    "import multiprocessing\n",
    "\n",
    "def square_number(x):\n",
    "    return x * x\n",
    "\n",
    "if __name__ == \"__main__\":\n",
    "   \n",
    "    num_processes = 4\n",
    "\n",
    "    \n",
    "    with multiprocessing.Pool(processes=num_processes) as pool:\n",
    "      \n",
    "        input_values = [1, 2, 3, 4, 5]\n",
    "\n",
    "        results = pool.map(square_number, input_values)\n",
    "\n",
    "    print(\"Original values:\", input_values)\n",
    "    print(\"Squared values:\", results)\n"
   ]
  },
  {
   "cell_type": "code",
   "execution_count": null,
   "id": "50340491-f54d-402d-9944-847d00d4f9e8",
   "metadata": {},
   "outputs": [],
   "source": []
  },
  {
   "cell_type": "markdown",
   "id": "4da0890c-7647-425f-94dc-b343ecb652d3",
   "metadata": {},
   "source": [
    "Q6. Write a python program to create 4 processes, each process should print a different number using the\n",
    "multiprocessing module in python."
   ]
  },
  {
   "cell_type": "code",
   "execution_count": 8,
   "id": "45eb86f6-5600-49de-8174-25518fd96f08",
   "metadata": {},
   "outputs": [
    {
     "name": "stdout",
     "output_type": "stream",
     "text": [
      "Process ID 757: 1\n",
      "Process ID 760: 2\n",
      "Process ID 767: 3\n",
      "Process ID 770: 4\n",
      "Main process finished.\n"
     ]
    }
   ],
   "source": [
    "import multiprocessing\n",
    "\n",
    "def print_number(number):\n",
    "    print(f\"Process ID {multiprocessing.current_process().pid}: {number}\")\n",
    "\n",
    "if __name__ == \"__main__\":\n",
    "  \n",
    "    numbers = [1, 2, 3, 4]\n",
    "\n",
    "    processes = []\n",
    "\n",
    "    for num in numbers:\n",
    "        process = multiprocessing.Process(target=print_number, args=(num,))\n",
    "        processes.append(process)\n",
    "        process.start()\n",
    "\n",
    "    for process in processes:\n",
    "        process.join()\n",
    "\n",
    "    print(\"Main process finished.\")\n"
   ]
  }
 ],
 "metadata": {
  "kernelspec": {
   "display_name": "Python 3 (ipykernel)",
   "language": "python",
   "name": "python3"
  },
  "language_info": {
   "codemirror_mode": {
    "name": "ipython",
    "version": 3
   },
   "file_extension": ".py",
   "mimetype": "text/x-python",
   "name": "python",
   "nbconvert_exporter": "python",
   "pygments_lexer": "ipython3",
   "version": "3.10.8"
  }
 },
 "nbformat": 4,
 "nbformat_minor": 5
}
